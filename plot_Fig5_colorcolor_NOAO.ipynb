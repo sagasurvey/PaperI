{
 "cells": [
  {
   "cell_type": "code",
   "execution_count": 61,
   "metadata": {
    "collapsed": false
   },
   "outputs": [],
   "source": [
    "import numpy as np\n",
    "import matplotlib.pyplot as plt\n",
    "%matplotlib inline\n",
    "import os\n",
    "\n",
    "from astropy import table\n",
    "from astropy.table import Table\n",
    "from astropy.io import ascii\n",
    "\n",
    "from astroML.plotting import scatter_contour\n",
    "\n",
    "\n",
    "SAGA_DIR = os.environ['SAGA_DIR']\n",
    "SAGA_DROPBOX= os.environ['SAGA_DROPBOX']"
   ]
  },
  {
   "cell_type": "code",
   "execution_count": 62,
   "metadata": {
    "collapsed": false
   },
   "outputs": [],
   "source": [
    "# READ SPECTRA\n",
    "file = SAGA_DROPBOX+'/data/saga_spectra_clean.fits.gz'\n",
    "allspec = Table.read(file)"
   ]
  },
  {
   "cell_type": "code",
   "execution_count": 63,
   "metadata": {
    "collapsed": false
   },
   "outputs": [],
   "source": [
    "# FIND GOOD OBJECTS \n",
    "m_rmv  = allspec['REMOVE'] == -1\n",
    "m_fib  = allspec['FIBERMAG_R'] <= 23\n",
    "m_gal  = allspec['PHOT_SG'] == 'GALAXY'\n",
    "\n",
    "m_boss = allspec['survey'] != 'boss'\n",
    "\n",
    "spec=allspec[m_rmv & m_fib & m_gal &m_boss]\n"
   ]
  },
  {
   "cell_type": "code",
   "execution_count": 64,
   "metadata": {
    "collapsed": false
   },
   "outputs": [
    {
     "name": "stdout",
     "output_type": "stream",
     "text": [
      "161\n",
      "378\n"
     ]
    }
   ],
   "source": [
    "# EXPLORE BRIGHT AND FAINT GALAXIES SEPARATELY\n",
    "m_ff1 = (spec['r'] - spec['EXTINCTION_R']) >19.\n",
    "m_ff2 = (spec['r'] - spec['EXTINCTION_R']) <=20.75\n",
    "m_ff=m_ff1 & m_ff2\n",
    "\n",
    "m_f1 = (spec['r'] - spec['EXTINCTION_R']) >17.7\n",
    "m_f2 = (spec['r'] - spec['EXTINCTION_R']) <=20.75\n",
    "m_f  = m_f1 & m_f2 \n",
    "m_b1  = (spec['r'] - spec['EXTINCTION_R']) < 17.7\n",
    "m_b2  = (spec['r'] - spec['EXTINCTION_R']) > 15\n",
    "m_b=m_b1& m_b2\n",
    "\n",
    "sats = spec['SATS'] == 1\n",
    "lowz = (spec['SPEC_Z'] > 0.005) & (spec['SPEC_Z'] < 0.015)\n",
    "\n",
    "print np.sum(sats)\n",
    "print np.sum(lowz)\n"
   ]
  },
  {
   "cell_type": "code",
   "execution_count": 65,
   "metadata": {
    "collapsed": true
   },
   "outputs": [],
   "source": [
    "# MAGNITUDES\n",
    "gmag = spec['g'] - spec['EXTINCTION_G']\n",
    "rmag = spec['r'] - spec['EXTINCTION_R']\n",
    "imag = spec['i'] - spec['EXTINCTION_I']\n",
    "\n",
    "# COLORS\n",
    "gr = gmag - rmag\n",
    "ri = rmag - imag"
   ]
  },
  {
   "cell_type": "code",
   "execution_count": 69,
   "metadata": {
    "collapsed": true
   },
   "outputs": [],
   "source": [
    "# SET PLOT LIMITS\n",
    "xl = [-0.3,1.3]\n",
    "yl=[-0.75,0.9]\n",
    "\n",
    "xl1 = gr > xl[0]\n",
    "xl2 = gr < xl[1]\n",
    "yl1 = ri > yl[0]\n",
    "yl2 = ri < yl[1]\n",
    "lims = xl1&xl2&yl1&yl2\n",
    "\n",
    "tgr = 0.85\n",
    "tri = 0.55"
   ]
  },
  {
   "cell_type": "code",
   "execution_count": 88,
   "metadata": {
    "collapsed": false
   },
   "outputs": [
    {
     "data": {
      "text/plain": [
       "<matplotlib.text.Text at 0x11abbf5d0>"
      ]
     },
     "execution_count": 88,
     "metadata": {},
     "output_type": "execute_result"
    },
    {
     "data": {
      "image/png": "[encoded data removed]",
      "text/plain": [
       "<matplotlib.figure.Figure at 0x11ab8fc10>"
      ]
     },
     "metadata": {},
     "output_type": "display_data"
    }
   ],
   "source": [
    "fig, ax1 = plt.subplots(1, 1)\n",
    "\n",
    "scatter_contour(gr[m_f&lims], ri[m_f&lims], ax=ax1,\n",
    "                threshold=30, log_counts=True, \n",
    "                histogram2d_args=dict(bins=40),\n",
    "                plot_args=dict(marker=',', linestyle='none', color='black'),\n",
    "                contour_args=dict(cmap=plt.cm.bone))\n",
    "\n",
    "ax1.plot(gr[m_b & lowz], ri[m_b & lowz],'bs',zorder=3,label = 'bright: 0.005$<$z$<$0.015')\n",
    "ax1.plot(gr[m_f & lowz], ri[m_f & lowz],'rs',zorder=3,label = 'faint: 0.005$<$z$<$0.015')\n",
    "#ax1.plot(gr[m_ff & lowz], ri[m_ff & lowz],'gs',zorder=3,label = 'faint: 0.005$<$z$<$0.015')\n",
    "\n",
    "ax1.set_xlim(xl)\n",
    "ax1.set_ylim(yl)\n",
    "#ax1.text(xl[0]+0.02,yl[1]-0.2,'Bright Galaxies: r $<$ 17.7',fontsize=11)\n",
    "\n",
    "ax1.axvline(tgr, c='w')\n",
    "ax1.axvline(tgr, c='k', ls=':')\n",
    "ax1.axhline(tri, c='w')\n",
    "ax1.axhline(tri, c='k', ls=':')\n",
    "\n",
    "# NEW LIMITS\n",
    "sgr=0.5\n",
    "sri=0.24\n",
    "ax1.plot([-10,sgr],[sri,sri], c='y',zorder=4)\n",
    "ax1.plot([sgr,sgr],[-10,0.25], c='y',zorder=4)\n",
    "\n",
    "#ax1.axhline(0.3, c='r')\n",
    "\n",
    "ax1.set_xlabel('$(g-r)_o$')\n",
    "ax1.set_ylabel('$(r-i)_o$')"
   ]
  },
  {
   "cell_type": "code",
   "execution_count": 91,
   "metadata": {
    "collapsed": false
   },
   "outputs": [
    {
     "name": "stdout",
     "output_type": "stream",
     "text": [
      "0\n"
     ]
    }
   ],
   "source": [
    "m= (gr > sgr) & (ri > sri) & (spec['SATS'] ==1) & (spec['r']-spec['EXTINCTION_R'] > 17.7)& (spec['r']-spec['EXTINCTION_R'] < 20.75)\n",
    "print np.sum(m)\n",
    "\n",
    "#m=spec['OBJID'] == 1237662662147638034\n",
    "#print spec['RA'][m],spec['DEC'][m]\n",
    "\n"
   ]
  },
  {
   "cell_type": "code",
   "execution_count": null,
   "metadata": {
    "collapsed": true
   },
   "outputs": [],
   "source": []
  },
  {
   "cell_type": "code",
   "execution_count": null,
   "metadata": {
    "collapsed": true
   },
   "outputs": [],
   "source": []
  },
  {
   "cell_type": "code",
   "execution_count": null,
   "metadata": {
    "collapsed": true
   },
   "outputs": [],
   "source": []
  },
  {
   "cell_type": "code",
   "execution_count": null,
   "metadata": {
    "collapsed": true
   },
   "outputs": [],
   "source": []
  },
  {
   "cell_type": "code",
   "execution_count": null,
   "metadata": {
    "collapsed": true
   },
   "outputs": [],
   "source": []
  }
 ],
 "metadata": {
  "kernelspec": {
   "display_name": "Python 2",
   "language": "python",
   "name": "python2"
  },
  "language_info": {
   "codemirror_mode": {
    "name": "ipython",
    "version": 2
   },
   "file_extension": ".py",
   "mimetype": "text/x-python",
   "name": "python",
   "nbconvert_exporter": "python",
   "pygments_lexer": "ipython2",
   "version": "2.7.13"
  }
 },
 "nbformat": 4,
 "nbformat_minor": 0
}
